{
 "cells": [
  {
   "cell_type": "code",
   "execution_count": 27,
   "metadata": {},
   "outputs": [],
   "source": [
    "import matplotlib.pyplot as plt\n",
    "import pandas as pd\n",
    "import numpy as np\n",
    "from collections import defaultdict\n",
    "import time"
   ]
  },
  {
   "cell_type": "code",
   "execution_count": 28,
   "metadata": {},
   "outputs": [],
   "source": [
    "# Dosya yolu\n",
    "file_path = \"Student Depression Dataset.csv\"\n",
    "\n",
    "# CSV dosyasını okuma\n",
    "df = pd.read_csv(file_path)\n",
    "\n",
    "# Eksik verileri doldurma (ortalama ile)\n",
    "df.fillna(df.mean(numeric_only=True), inplace=True)\n",
    "\n",
    "# Gerekli sütunları seçme\n",
    "features = [\"Academic Pressure\", \"Work Pressure\", \"Study Satisfaction\", \"Sleep Duration\", \"Dietary Habits\", \"Financial Stress\", \"Family History of Mental Illness\"]\n",
    "target = \"Depression\"\n",
    "\n",
    "# Kategorik verileri sayısal hale getirme\n",
    "category_mappings = {}\n",
    "for col in [\"Sleep Duration\", \"Dietary Habits\", \"Family History of Mental Illness\"]:\n",
    "    unique_values = df[col].unique()\n",
    "    mapping = {val: idx for idx, val in enumerate(unique_values)}\n",
    "    df[col] = df[col].map(mapping)\n",
    "    category_mappings[col] = mapping\n"
   ]
  },
  {
   "cell_type": "code",
   "execution_count": 29,
   "metadata": {},
   "outputs": [],
   "source": [
    "# Bağımsız ve bağımlı değişkenleri ayırma\n",
    "X = df[features].values\n",
    "y = df[target].values\n",
    "\n",
    "# Normalizasyon uygulama\n",
    "X = (X - X.min(axis=0)) / (X.max(axis=0) - X.min(axis=0))\n",
    "\n",
    "# Veriyi eğitim ve test kümelerine ayırma\n",
    "np.random.seed(42)\n",
    "indices = np.arange(X.shape[0])\n",
    "np.random.shuffle(indices)\n",
    "split = int(0.8 * len(indices))\n",
    "train_idx, test_idx = indices[:split], indices[split:]\n",
    "X_train, X_test = X[train_idx], X[test_idx]\n",
    "y_train, y_test = y[train_idx], y[test_idx]"
   ]
  },
  {
   "cell_type": "code",
   "execution_count": 30,
   "metadata": {},
   "outputs": [],
   "source": [
    "# Naive Bayes sınıfı\n",
    "class NaiveBayes:\n",
    "    def fit(self, X, y):\n",
    "        self.classes = np.unique(y)\n",
    "        self.means = {}\n",
    "        self.stds = {}\n",
    "        self.priors = {}\n",
    "        \n",
    "        for c in self.classes:\n",
    "            X_c = X[y == c]\n",
    "            self.means[c] = X_c.mean(axis=0)\n",
    "            self.stds[c] = X_c.std(axis=0) + 1e-6  # Sıfır bölme hatasını önlemek için küçük bir değer eklenir\n",
    "            self.priors[c] = len(X_c) / len(X)\n",
    "    \n",
    "    def gaussian_pdf(self, x, mean, std):\n",
    "        return (1 / (np.sqrt(2 * np.pi) * std)) * np.exp(-((x - mean) ** 2) / (2 * std ** 2))\n",
    "    \n",
    "    def predict(self, X):\n",
    "        predictions = []\n",
    "        for x in X:\n",
    "            posteriors = {}\n",
    "            for c in self.classes:\n",
    "                prior = np.log(self.priors[c])\n",
    "                likelihood = np.sum(np.log(self.gaussian_pdf(x, self.means[c], self.stds[c])))\n",
    "                posteriors[c] = prior + likelihood\n",
    "            predictions.append(max(posteriors, key=posteriors.get))\n",
    "        return np.array(predictions)\n"
   ]
  },
  {
   "cell_type": "code",
   "execution_count": 31,
   "metadata": {},
   "outputs": [
    {
     "name": "stdout",
     "output_type": "stream",
     "text": [
      "Eğitim süresi: 0.002419 saniye\n",
      "Test süresi: 0.084444 saniye\n",
      "Model Doğruluk Oranı: 0.79\n"
     ]
    },
    {
     "data": {
      "image/png": "[encoded data removed]",
      "text/plain": [
       "<Figure size 600x600 with 2 Axes>"
      ]
     },
     "metadata": {},
     "output_type": "display_data"
    }
   ],
   "source": [
    "# Modeli eğitme ve eğitim süresini ölçme\n",
    "model = NaiveBayes()\n",
    "start_fit = time.time()\n",
    "model.fit(X_train, y_train)\n",
    "fit_time = time.time() - start_fit\n",
    "print(f\"Eğitim süresi: {fit_time:.6f} saniye\")\n",
    "\n",
    "# Test işlemi ve tahmin süresini ölçme\n",
    "start_pred = time.time()\n",
    "y_pred = model.predict(X_test)\n",
    "pred_time = time.time() - start_pred\n",
    "print(f\"Test süresi: {pred_time:.6f} saniye\")\n",
    "\n",
    "# Modelin doğruluk oranını hesaplama\n",
    "accuracy = np.mean(y_pred == y_test)\n",
    "print(f\"Model Doğruluk Oranı: {accuracy:.2f}\")\n",
    "\n",
    "# Confusion Matrix oluşturma\n",
    "cm = np.zeros((len(np.unique(y)), len(np.unique(y))), dtype=int)\n",
    "for true, pred in zip(y_test, y_pred):\n",
    "    cm[true, pred] += 1\n",
    "\n",
    "# Matplotlib ile confusion matrix çizdirme\n",
    "plt.figure(figsize=(6, 6))\n",
    "plt.imshow(cm, cmap=plt.cm.Blues, interpolation='nearest')\n",
    "plt.colorbar()\n",
    "\n",
    "# Confusion matrix üzerine değerleri ekleyelim\n",
    "for i in range(cm.shape[0]):\n",
    "    for j in range(cm.shape[1]):\n",
    "        plt.text(j, i, str(cm[i, j]), ha='center', va='center', color='black', fontsize=12)\n",
    "\n",
    "plt.xticks(np.arange(len(np.unique(y))), np.unique(y))\n",
    "plt.yticks(np.arange(len(np.unique(y))), np.unique(y))\n",
    "plt.xlabel(\"Tahmin Edilen\")\n",
    "plt.ylabel(\"Gerçek\")\n",
    "plt.title(\"Naive Bayes - Depresyon Tahmini Confusion Matrix\")\n",
    "plt.show()\n"
   ]
  }
 ],
 "metadata": {
  "kernelspec": {
   "display_name": "Python 3",
   "language": "python",
   "name": "python3"
  },
  "language_info": {
   "codemirror_mode": {
    "name": "ipython",
    "version": 3
   },
   "file_extension": ".py",
   "mimetype": "text/x-python",
   "name": "python",
   "nbconvert_exporter": "python",
   "pygments_lexer": "ipython3",
   "version": "3.13.1"
  }
 },
 "nbformat": 4,
 "nbformat_minor": 2
}
